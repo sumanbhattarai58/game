{
 "cells": [
  {
   "cell_type": "code",
   "execution_count": null,
   "id": "00e96dac",
   "metadata": {},
   "outputs": [
    {
     "name": "stdout",
     "output_type": "stream",
     "text": [
      "       VendorID  passenger_count  trip_distance  RatecodeID  \\\n",
      "0             2                1          17.63           2   \n",
      "1             2                1          19.52           2   \n",
      "2             2                1          17.81           2   \n",
      "3             2                2          19.30           2   \n",
      "4             2                1          18.75           2   \n",
      "...         ...              ...            ...         ...   \n",
      "41197         2                1          16.94           2   \n",
      "41198         2                4          19.83           2   \n",
      "41199         2                1          17.31           2   \n",
      "41200         2                1          17.28           2   \n",
      "41201         2                1          16.82           2   \n",
      "\n",
      "       store_and_fwd_flag  PULocationID  DOLocationID  payment_type  \\\n",
      "0                       1           132           164             1   \n",
      "1                       1           132           236             1   \n",
      "2                       1           132            48             1   \n",
      "3                       1           132           148             1   \n",
      "4                       1           132           234             1   \n",
      "...                   ...           ...           ...           ...   \n",
      "41197                   1           132           164             1   \n",
      "41198                   1           132           166             1   \n",
      "41199                   1           132           137             1   \n",
      "41200                   1           132           233             1   \n",
      "41201                   1           132           170             1   \n",
      "\n",
      "       fare_amount  mta_tax  tolls_amount  improvement_surcharge  tip_amount  \n",
      "0             70.0      0.5          6.94                      1       16.54  \n",
      "1             70.0      0.5          6.94                      1       16.19  \n",
      "2             70.0      0.5          6.94                      1       12.00  \n",
      "3             70.0      0.5          0.00                      1        5.00  \n",
      "4             70.0      0.5          6.94                      1       10.00  \n",
      "...            ...      ...           ...                    ...         ...  \n",
      "41197         70.0      0.5          6.94                      1        5.00  \n",
      "41198         70.0      0.5          6.94                      1        8.00  \n",
      "41199         70.0      0.5          6.94                      1        8.00  \n",
      "41200         70.0      0.5          6.94                      1       16.19  \n",
      "41201         70.0      0.5          6.94                      1        4.13  \n",
      "\n",
      "[41202 rows x 13 columns]\n"
     ]
    }
   ],
   "source": [
    "#train a regression tree model\n",
    "from __future__ import print_function\n",
    "import numpy as np\n",
    "import pandas as pd\n",
    "import matplotlib.pyplot as plt\n",
    "from sklearn.model_selection import train_test_split\n",
    "from sklearn.preprocessing import normalize\n",
    "from sklearn.metrics import mean_squared_error\n",
    "from sklearn.tree import DecisionTreeRegressor\n",
    "url = 'https://cf-courses-data.s3.us.cloud-object-storage.appdomain.cloud/pu9kbeSaAtRZ7RxdJKX9_A/yellow-tripdata.csv'\n",
    "raw_data = pd.read_csv(url)\n",
    "print(raw_data)\n"
   ]
  },
  {
   "cell_type": "code",
   "execution_count": 6,
   "id": "3d8f3c48",
   "metadata": {},
   "outputs": [
    {
     "name": "stdout",
     "output_type": "stream",
     "text": [
      "VendorID                      NaN\n",
      "passenger_count          0.015081\n",
      "trip_distance            0.101819\n",
      "RatecodeID               0.094075\n",
      "store_and_fwd_flag       0.000320\n",
      "PULocationID            -0.023086\n",
      "DOLocationID             0.024348\n",
      "payment_type                  NaN\n",
      "fare_amount              0.200638\n",
      "mta_tax                 -0.054488\n",
      "tolls_amount             0.116172\n",
      "improvement_surcharge   -0.000727\n",
      "tip_amount               1.000000\n",
      "Name: tip_amount, dtype: float64\n",
      "VendorID                 0\n",
      "passenger_count          0\n",
      "trip_distance            0\n",
      "RatecodeID               0\n",
      "store_and_fwd_flag       0\n",
      "PULocationID             0\n",
      "DOLocationID             0\n",
      "payment_type             0\n",
      "fare_amount              0\n",
      "mta_tax                  0\n",
      "tolls_amount             0\n",
      "improvement_surcharge    0\n",
      "tip_amount               0\n",
      "dtype: int64\n"
     ]
    },
    {
     "data": {
      "text/plain": [
       "<Axes: >"
      ]
     },
     "execution_count": 6,
     "metadata": {},
     "output_type": "execute_result"
    },
    {
     "data": {
      "image/png": "[encoded data removed]",
      "text/plain": [
       "<Figure size 1000x600 with 1 Axes>"
      ]
     },
     "metadata": {},
     "output_type": "display_data"
    }
   ],
   "source": [
    "correlation =raw_data.corr()['tip_amount']\n",
    "print(correlation)\n",
    "print(raw_data.isnull().sum())\n",
    "correlation.plot(kind='barh', figsize=(10, 6))"
   ]
  },
  {
   "cell_type": "code",
   "execution_count": 7,
   "id": "54018db3",
   "metadata": {},
   "outputs": [
    {
     "name": "stdout",
     "output_type": "stream",
     "text": [
      "[[0.00501165 0.00250583 0.04417771 ... 0.00125291 0.01739043 0.00250583]\n",
      " [0.00422869 0.00211434 0.04127199 ... 0.00105717 0.01467355 0.00211434]\n",
      " [0.0070609  0.00353045 0.06287732 ... 0.00176523 0.02450132 0.00353045]\n",
      " ...\n",
      " [0.00537996 0.00268998 0.04656355 ... 0.00134499 0.01866846 0.00268998]\n",
      " [0.00427606 0.00213803 0.03694518 ... 0.00106902 0.01483794 0.00213803]\n",
      " [0.00494731 0.00247366 0.04160689 ... 0.00123683 0.01716717 0.00247366]]\n"
     ]
    }
   ],
   "source": [
    "y = raw_data[['tip_amount']].values.astype('float32')\n",
    "\n",
    "# drop the target variable from the feature matrix\n",
    "proc_data = raw_data.drop(['tip_amount'], axis=1)\n",
    "\n",
    "# get the feature matrix used for training\n",
    "X = proc_data.values\n",
    "\n",
    "# normalize the feature matrix\n",
    "X = normalize(X, axis=1, norm='l1', copy=False)\n",
    "print(X)"
   ]
  },
  {
   "cell_type": "code",
   "execution_count": 11,
   "id": "d8546093",
   "metadata": {},
   "outputs": [
    {
     "name": "stdout",
     "output_type": "stream",
     "text": [
      "[[20.23]\n",
      " [14.8 ]\n",
      " [ 8.  ]\n",
      " ...\n",
      " [16.19]\n",
      " [10.  ]\n",
      " [20.23]]\n",
      "[14.43893014 13.47723817 16.36184052 ... 14.43893014 14.43893014\n",
      " 13.47723817]\n"
     ]
    }
   ],
   "source": [
    "from sklearn.tree import DecisionTreeRegressor\n",
    "X_train, X_test, y_train, y_test = train_test_split(X, y, test_size=0.3, random_state=42)\n",
    "dt_reg = DecisionTreeRegressor(criterion = 'squared_error', max_depth=8, random_state=35)\n",
    "dt_reg.fit(X_train, y_train)\n",
    "y_pred = dt_reg.predict(X_test)\n",
    "print(y_train )\n",
    "print(y_pred)"
   ]
  },
  {
   "cell_type": "code",
   "execution_count": 12,
   "id": "471e54b3",
   "metadata": {},
   "outputs": [
    {
     "name": "stdout",
     "output_type": "stream",
     "text": [
      "MSE score : 24.555\n",
      "R^2 score : 0.028\n"
     ]
    }
   ],
   "source": [
    "mse_score = mean_squared_error(y_test, y_pred)\n",
    "print('MSE score : {0:.3f}'.format(mse_score))\n",
    "\n",
    "r2_score = dt_reg.score(X_test,y_test)\n",
    "print('R^2 score : {0:.3f}'.format(r2_score))"
   ]
  }
 ],
 "metadata": {
  "kernelspec": {
   "display_name": "Python 3",
   "language": "python",
   "name": "python3"
  },
  "language_info": {
   "codemirror_mode": {
    "name": "ipython",
    "version": 3
   },
   "file_extension": ".py",
   "mimetype": "text/x-python",
   "name": "python",
   "nbconvert_exporter": "python",
   "pygments_lexer": "ipython3",
   "version": "3.13.3"
  }
 },
 "nbformat": 4,
 "nbformat_minor": 5
}
