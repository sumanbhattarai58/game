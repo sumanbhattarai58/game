{
 "cells": [
  {
   "cell_type": "code",
   "execution_count": 3,
   "id": "63f46f75",
   "metadata": {},
   "outputs": [
    {
     "ename": "ModuleNotFoundError",
     "evalue": "No module named 'hdbscan'",
     "output_type": "error",
     "traceback": [
      "\u001b[31m---------------------------------------------------------------------------\u001b[39m",
      "\u001b[31mModuleNotFoundError\u001b[39m                       Traceback (most recent call last)",
      "\u001b[36mCell\u001b[39m\u001b[36m \u001b[39m\u001b[32mIn[3]\u001b[39m\u001b[32m, line 5\u001b[39m\n\u001b[32m      3\u001b[39m \u001b[38;5;28;01mimport\u001b[39;00m\u001b[38;5;250m \u001b[39m\u001b[34;01mmatplotlib\u001b[39;00m\u001b[34;01m.\u001b[39;00m\u001b[34;01mpyplot\u001b[39;00m\u001b[38;5;250m \u001b[39m\u001b[38;5;28;01mas\u001b[39;00m\u001b[38;5;250m \u001b[39m\u001b[34;01mplt\u001b[39;00m\n\u001b[32m      4\u001b[39m \u001b[38;5;28;01mfrom\u001b[39;00m\u001b[38;5;250m \u001b[39m\u001b[34;01msklearn\u001b[39;00m\u001b[34;01m.\u001b[39;00m\u001b[34;01mcluster\u001b[39;00m\u001b[38;5;250m \u001b[39m\u001b[38;5;28;01mimport\u001b[39;00m DBSCAN\n\u001b[32m----> \u001b[39m\u001b[32m5\u001b[39m \u001b[38;5;28;01mimport\u001b[39;00m\u001b[38;5;250m \u001b[39m\u001b[34;01mhdbscan\u001b[39;00m\n\u001b[32m      6\u001b[39m \u001b[38;5;28;01mfrom\u001b[39;00m\u001b[38;5;250m \u001b[39m\u001b[34;01msklearn\u001b[39;00m\u001b[34;01m.\u001b[39;00m\u001b[34;01mpreprocessing\u001b[39;00m\u001b[38;5;250m \u001b[39m\u001b[38;5;28;01mimport\u001b[39;00m StandardScaler\n\u001b[32m      8\u001b[39m url = \u001b[33m'\u001b[39m\u001b[33mhttps://cf-courses-data.s3.us.cloud-object-storage.appdomain.cloud/r-maSj5Yegvw2sJraT15FA/ODCAF-v1-0.csv\u001b[39m\u001b[33m'\u001b[39m\n",
      "\u001b[31mModuleNotFoundError\u001b[39m: No module named 'hdbscan'"
     ]
    }
   ],
   "source": [
    "import pandas as pd\n",
    "import numpy as np\n",
    "import matplotlib.pyplot as plt\n",
    "from sklearn.cluster import DBSCAN\n",
    "import hdbscan\n",
    "from sklearn.preprocessing import StandardScaler\n",
    "\n",
    "url = 'https://cf-courses-data.s3.us.cloud-object-storage.appdomain.cloud/r-maSj5Yegvw2sJraT15FA/ODCAF-v1-0.csv'\n",
    "df = pd.read_csv(url, encoding = \"ISO-8859-1\")\n",
    "print(df.head())"
   ]
  },
  {
   "cell_type": "code",
   "execution_count": null,
   "id": "21046c2e",
   "metadata": {},
   "outputs": [
    {
     "name": "stdout",
     "output_type": "stream",
     "text": [
      "ODCAF_Facility_Type\n",
      "library or archives                     3013\n",
      "museum                                  1938\n",
      "gallery                                  810\n",
      "heritage or historic site                620\n",
      "theatre/performance and concert hall     583\n",
      "festival site                            346\n",
      "miscellaneous                            343\n",
      "art or cultural centre                   225\n",
      "artist                                    94\n",
      "Name: count, dtype: int64\n"
     ]
    }
   ],
   "source": [
    "print(df.ODCAF_Facility_Type.value_counts())"
   ]
  },
  {
   "cell_type": "code",
   "execution_count": null,
   "id": "78700691",
   "metadata": {},
   "outputs": [
    {
     "name": "stdout",
     "output_type": "stream",
     "text": [
      "ODCAF_Facility_Type\n",
      "museum    1938\n",
      "Name: count, dtype: int64\n"
     ]
    }
   ],
   "source": [
    "df=df[df.ODCAF_Facility_Type ==\"museum\"]\n",
    "print(df.ODCAF_Facility_Type.value_counts())\n"
   ]
  },
  {
   "cell_type": "code",
   "execution_count": null,
   "id": "3ac712a9",
   "metadata": {},
   "outputs": [
    {
     "name": "stdout",
     "output_type": "stream",
     "text": [
      "Index(['Index', 'Facility_Name', 'Source_Facility_Type', 'ODCAF_Facility_Type',\n",
      "       'Provider', 'Unit', 'Street_No', 'Street_Name', 'Postal_Code', 'City',\n",
      "       'Prov_Terr', 'Source_Format_Address', 'CSD_Name', 'CSDUID', 'PRUID',\n",
      "       'Latitude', 'Longitude'],\n",
      "      dtype='object')\n",
      "         Latitude     Longitude\n",
      "1      55.2645508  -127.6428124\n",
      "2       45.963283   -66.6419017\n",
      "8      49.1763542   -123.112783\n",
      "13      49.261938   -123.151123\n",
      "15    49.88955855  -97.23574396\n",
      "...           ...           ...\n",
      "7940    43.857692   -79.3619396\n",
      "7954           ..            ..\n",
      "7958           ..            ..\n",
      "7968  48.42241956  -123.3435527\n",
      "7969   48.4260053  -123.3691883\n",
      "\n",
      "[1938 rows x 2 columns]\n",
      "<class 'pandas.core.frame.DataFrame'>\n",
      "Index: 1938 entries, 1 to 7969\n",
      "Data columns (total 2 columns):\n",
      " #   Column     Non-Null Count  Dtype \n",
      "---  ------     --------------  ----- \n",
      " 0   Latitude   1938 non-null   object\n",
      " 1   Longitude  1938 non-null   object\n",
      "dtypes: object(2)\n",
      "memory usage: 45.4+ KB\n",
      "None\n",
      "Latitude     0\n",
      "Longitude    0\n",
      "dtype: int64\n"
     ]
    }
   ],
   "source": [
    "print(df.columns)\n",
    "df=df[[\"Latitude\",\"Longitude\"]]\n",
    "print(df)\n",
    "print(df.info())\n",
    "print(df.isnull().sum())\n",
    "df = df[df.Latitude!='..']\n",
    "df[[\"Latitude\",\"Longitude\"]]=df[[\"Latitude\",\"Longitude\"]].astype('float')"
   ]
  },
  {
   "cell_type": "code",
   "execution_count": null,
   "id": "da6a0049",
   "metadata": {},
   "outputs": [
    {
     "name": "stdout",
     "output_type": "stream",
     "text": [
      "        Latitude   Longitude\n",
      "1     110.529102 -127.642812\n",
      "2      91.926566  -66.641902\n",
      "8      98.352708 -123.112783\n",
      "13     98.523876 -123.151123\n",
      "15     99.779117  -97.235744\n",
      "...          ...         ...\n",
      "7934   86.366180  -79.224564\n",
      "7936   87.380043  -79.476208\n",
      "7940   87.715384  -79.361940\n",
      "7968   96.844839 -123.343553\n",
      "7969   96.852011 -123.369188\n",
      "\n",
      "[1607 rows x 2 columns]\n"
     ]
    }
   ],
   "source": [
    "# In this case we know how to scale the coordinates. Using standardization would be an error becaues we aren't using the full range of the lat/lng coordinates.\n",
    "# Since latitude has a range of +/- 90 degrees and longitude ranges from 0 to 360 degrees, the correct scaling is to double the longitude coordinates (or half the Latitudes)\n",
    "coords_scaled = df.copy()\n",
    "coords_scaled[\"Latitude\"] = 2*coords_scaled[\"Latitude\"]\n",
    "print(coords_scaled)"
   ]
  },
  {
   "cell_type": "code",
   "execution_count": null,
   "id": "ee8e3b51",
   "metadata": {},
   "outputs": [
    {
     "ename": "NameError",
     "evalue": "name 'DBSCAN' is not defined",
     "output_type": "error",
     "traceback": [
      "\u001b[31m---------------------------------------------------------------------------\u001b[39m",
      "\u001b[31mNameError\u001b[39m                                 Traceback (most recent call last)",
      "\u001b[36mCell\u001b[39m\u001b[36m \u001b[39m\u001b[32mIn[29]\u001b[39m\u001b[32m, line 5\u001b[39m\n\u001b[32m      2\u001b[39m eps=\u001b[32m1.0\u001b[39m \u001b[38;5;66;03m# neighbourhood search radius\u001b[39;00m\n\u001b[32m      3\u001b[39m metric=\u001b[33m'\u001b[39m\u001b[33meuclidean\u001b[39m\u001b[33m'\u001b[39m \u001b[38;5;66;03m# distance measure \u001b[39;00m\n\u001b[32m----> \u001b[39m\u001b[32m5\u001b[39m dbscan = \u001b[43mDBSCAN\u001b[49m(eps=eps, min_samples=N, metric=metric).fit(coords_scaled)\n\u001b[32m      6\u001b[39m df[\u001b[33m'\u001b[39m\u001b[33mCluster\u001b[39m\u001b[33m'\u001b[39m] = dbscan.fit_predict(coords_scaled)  \u001b[38;5;66;03m# Assign the cluster labels\u001b[39;00m\n\u001b[32m      8\u001b[39m \u001b[38;5;66;03m# Display the size of each cluster\u001b[39;00m\n",
      "\u001b[31mNameError\u001b[39m: name 'DBSCAN' is not defined"
     ]
    }
   ],
   "source": [
    "N=4 # minimum number of samples needed to form a neighbourhood\n",
    "eps=1.0 # neighbourhood search radius\n",
    "metric='euclidean' # distance measure \n",
    "\n",
    "dbscan = DBSCAN(eps=eps, min_samples=N, metric=metric).fit(coords_scaled)\n",
    "df['Cluster'] = dbscan.fit_predict(coords_scaled)  # Assign the cluster labels\n",
    "\n",
    "# Display the size of each cluster\n",
    "df['Cluster'].value_counts()"
   ]
  },
  {
   "cell_type": "code",
   "execution_count": null,
   "id": "cf666091",
   "metadata": {},
   "outputs": [],
   "source": [
    "min_samples=None\n",
    "min_cluster_size=3\n",
    "hdb = hdbscan.HDBSCAN(min_samples=min_samples, min_cluster_size=min_cluster_size, metric='euclidean')  # You can adjust parameters as needed\n",
    "# Assign labels\n",
    "df['Cluster'] = hdb.fit_predict(coords_scaled)  # Another way to assign the labels\n",
    "\n",
    "# Display the size of each cluster\n",
    "df['Cluster'].value_counts()\n",
    "plot_clustered_locations(df, title='Museums Hierarchically Clustered by Proximity')"
   ]
  }
 ],
 "metadata": {
  "kernelspec": {
   "display_name": "Python 3",
   "language": "python",
   "name": "python3"
  },
  "language_info": {
   "codemirror_mode": {
    "name": "ipython",
    "version": 3
   },
   "file_extension": ".py",
   "mimetype": "text/x-python",
   "name": "python",
   "nbconvert_exporter": "python",
   "pygments_lexer": "ipython3",
   "version": "3.13.3"
  }
 },
 "nbformat": 4,
 "nbformat_minor": 5
}
